{
 "cells": [
  {
   "cell_type": "markdown",
   "metadata": {},
   "source": [
    "# Demo of using `pymhlib` within a Jupyter notebook\n",
    "\n",
    "Note that this notebook is still rather crude and not yet cleaned; it is a very basic first try."
   ]
  },
  {
   "cell_type": "code",
   "execution_count": null,
   "metadata": {},
   "outputs": [],
   "source": [
    "import sys\n",
    "sys.version"
   ]
  },
  {
   "cell_type": "code",
   "execution_count": null,
   "metadata": {
    "pycharm": {
     "is_executing": true,
     "name": "#%%\n"
    }
   },
   "outputs": [],
   "source": [
    "import sys\n",
    "sys.path.append('../..')  # path to pymhlib to be used\n",
    "%load_ext autoreload\n",
    "%aimport pymhlib.demos.vertex_cover, logging\n",
    "%autoreload 1\n",
    "from pymhlib.settings import settings, parse_settings\n",
    "from pymhlib.log import init_logger\n",
    "from pymhlib.demos.vertex_cover import VertexCoverInstance, VertexCoverSolution\n",
    "from pymhlib.gvns import GVNS, Method\n",
    "import logging\n",
    "import matplotlib.pyplot as plt\n",
    "import pandas as pd\n",
    "import seaborn as sns\n",
    "sns.set()\n",
    "%matplotlib inline\n",
    "from IPython.display import set_matplotlib_formats; set_matplotlib_formats('png', 'pdf')\n",
    "if not settings.__dict__: parse_settings(args='')\n",
    "init_logger()\n",
    "logger = logging.getLogger(\"pymhlib\")"
   ]
  },
  {
   "cell_type": "markdown",
   "metadata": {},
   "source": [
    "## In the following different construction heuristics, local search and a GVNS are applied 'runs' times to the vertex cover problem and box plots of the obtained solution values are created"
   ]
  },
  {
   "cell_type": "code",
   "execution_count": null,
   "metadata": {
    "pycharm": {
     "is_executing": true,
     "name": "#%%\n"
    }
   },
   "outputs": [],
   "source": [
    "runs=3\n",
    "problem_name = \"gnm-1000-2000\"\n",
    "settings.mh_titer=10000\n",
    "logger.info(f\"pymhlib demo for solving {problem_name}\")\n",
    "# logger.info(get_settings_as_str())\n",
    "res_approx = list()\n",
    "res_approx_red = list()\n",
    "res_deg_greedy = list()\n",
    "res_deg_greedy_ls = list()\n",
    "for run in range(runs):\n",
    "    instance = VertexCoverInstance(problem_name+f'-{run+1}')\n",
    "    # logger.info(f\"{problem_name} instance read:\\n\" + str(instance))\n",
    "    solution = VertexCoverSolution(instance)\n",
    "    solution.two_approximation_construction()\n",
    "    res_approx.append(solution.obj())\n",
    "    solution.remove_redundant()\n",
    "    res_approx_red.append(solution.obj())\n",
    "    solution.greedy_construction()\n",
    "    res_deg_greedy.append(solution.obj())\n",
    "    alg = GVNS(solution,\n",
    "            [Method(f\"ch0\", VertexCoverSolution.construct, 0)],\n",
    "            [Method(f\"li2\", VertexCoverSolution.local_improve, 2)],\n",
    "            [Method(f\"sh{i}\", VertexCoverSolution.shaking, i) for i in range(0)])\n",
    "    alg.run()\n",
    "    alg.method_statistics()\n",
    "    alg.main_results()\n",
    "    res_deg_greedy_ls.append(solution.obj())"
   ]
  },
  {
   "cell_type": "code",
   "execution_count": null,
   "metadata": {
    "pycharm": {
     "is_executing": true,
     "name": "#%%\n"
    }
   },
   "outputs": [],
   "source": [
    "res_vns = []\n",
    "settings.mh_titer=1000\n",
    "for run in range(runs):\n",
    "    instance = VertexCoverInstance(problem_name+f'-{run+1}')\n",
    "    # logger.info(f\"{problem_name} instance read:\\n\" + str(instance))\n",
    "    solution = VertexCoverSolution(instance)\n",
    "    alg = GVNS(solution,\n",
    "            [Method(f\"ch0\", VertexCoverSolution.construct, 0)],\n",
    "            [Method(f\"li2\", VertexCoverSolution.local_improve, 2)],\n",
    "            [Method(f\"sh{i}\", VertexCoverSolution.shaking, i) for i in range(1,5)])\n",
    "    alg.run()\n",
    "    alg.method_statistics()\n",
    "    alg.main_results()\n",
    "    res_vns.append(solution.obj())"
   ]
  },
  {
   "cell_type": "code",
   "execution_count": null,
   "metadata": {
    "collapsed": false,
    "jupyter": {
     "outputs_hidden": false
    },
    "pycharm": {
     "is_executing": true,
     "name": "#%%\n"
    }
   },
   "outputs": [],
   "source": [
    "df = pd.DataFrame({'2-apx': res_approx, '2-apx+LS1': res_approx_red, \n",
    "                   'deg-greedy': res_deg_greedy, 'deg-greedy+LS2': res_deg_greedy_ls,\n",
    "                   'VNS': res_vns})\n",
    "sns.boxplot(data=df[['2-apx', '2-apx+LS1', 'deg-greedy', 'deg-greedy+LS2']])\n",
    "plt.title(f'Minimum Vertex Cover Problem\\n{runs} random graphs with $n=1000,\\,m=2000$')\n",
    "plt.ylabel('$|C|$');\n",
    "# plt.ylim((0,1000))\n",
    "# plt.savefig(\"vcp1.pdf\")"
   ]
  },
  {
   "cell_type": "code",
   "execution_count": null,
   "metadata": {
    "collapsed": false,
    "jupyter": {
     "outputs_hidden": false
    },
    "pycharm": {
     "is_executing": true,
     "name": "#%%\n"
    }
   },
   "outputs": [],
   "source": [
    "plt.title(f'Minimum Vertex Cover Problem\\n{runs} random graphs with $n=1000,\\,m=2000$')\n",
    "plt.ylabel('$|C|$')\n",
    "sns.boxplot(data=df[['2-apx+LS1', 'deg-greedy', 'deg-greedy+LS2', 'VNS']]);\n",
    "# plt.savefig(\"vcp2.pdf\")"
   ]
  },
  {
   "cell_type": "markdown",
   "metadata": {},
   "source": [
    "## The following illustrates an interactive interface to start the GVNS and create a plot of the obtained solutions values over the iterations"
   ]
  },
  {
   "cell_type": "code",
   "execution_count": null,
   "metadata": {
    "pycharm": {
     "is_executing": true,
     "name": "#%%\n"
    }
   },
   "outputs": [],
   "source": [
    "import ipywidgets as widgets\n",
    "from IPython.display import display\n",
    "from ipywidgets.widgets.interaction import show_inline_matplotlib_plots\n",
    "iter_text = widgets.FloatText(description=\"Iterations\", min=0, max=10000, value=1000)\n",
    "iter_slider = widgets.IntSlider(min=0, max=10000)\n",
    "start = widgets.Button(description=\"Start\")\n",
    "output = widgets.Output()\n",
    "hbox = widgets.HBox([iter_text, iter_slider])\n",
    "display(hbox)\n",
    "widgets.jslink((iter_text, 'value'), (iter_slider, 'value'))\n",
    "display(start,output)\n",
    "\n",
    "problem_name = \"gnm-1000-2000\"\n",
    "df = None\n",
    "\n",
    "def run(_start):\n",
    "    with output:\n",
    "        global logger, instance, solution, alg\n",
    "        output.clear_output()\n",
    "        settings.mh_log = \"run.log\"  # write iteration log to file\n",
    "        settings.mh_lfreq = 1  # log all iterations\n",
    "        init_logger()\n",
    "        logger.handlers = []  # switch off general textual log output\n",
    "        logger.info(f\"pymhlib demo for solving {problem_name}\")\n",
    "        settings.mh_titer = iter_text.value\n",
    "        instance = VertexCoverInstance(problem_name+f'-1')\n",
    "        solution = VertexCoverSolution(instance)\n",
    "        alg = GVNS(solution,\n",
    "                [Method(f\"ch0\", VertexCoverSolution.construct, 2)],\n",
    "                [Method(f\"li2\", VertexCoverSolution.local_improve, 2)],\n",
    "                [Method(f\"sh{i}\", VertexCoverSolution.shaking, i) for i in range(1,5)])\n",
    "        alg.run()\n",
    "        # alg.method_statistics()\n",
    "        # alg.main_results()\n",
    "        \n",
    "        logging.getLogger(\"pymhlib_iter\").handlers[0].flush()\n",
    "        global df\n",
    "        df = pd.read_csv(\"run.log\", sep=r'\\s+')\n",
    "        df.plot(kind='line', x='iteration', y=['best', 'obj_new']); plt.ylabel('obj')\n",
    "        # display(df)\n",
    "        show_inline_matplotlib_plots()\n",
    "    \n",
    "start.on_click(run)"
   ]
  },
  {
   "cell_type": "code",
   "execution_count": null,
   "metadata": {
    "pycharm": {
     "is_executing": true
    }
   },
   "outputs": [],
   "source": []
  }
 ],
 "metadata": {
  "kernelspec": {
   "name": "python3",
   "display_name": "Python 3.9.1 64-bit ('3.9.1')",
   "metadata": {
    "interpreter": {
     "hash": "25f4c3e3959e00fad59026cfcf062f3d67d701e03df70233f09ed9abeb5eb196"
    }
   }
  },
  "language_info": {
   "codemirror_mode": {
    "name": "ipython",
    "version": 3
   },
   "file_extension": ".py",
   "mimetype": "text/x-python",
   "name": "python",
   "nbconvert_exporter": "python",
   "pygments_lexer": "ipython3",
   "version": "3.9.1-final"
  },
  "pycharm": {
   "stem_cell": {
    "cell_type": "raw",
    "source": [],
    "metadata": {
     "collapsed": false
    }
   }
  }
 },
 "nbformat": 4,
 "nbformat_minor": 4
}